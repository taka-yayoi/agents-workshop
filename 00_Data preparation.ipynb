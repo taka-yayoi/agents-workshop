{
 "cells": [
  {
   "cell_type": "markdown",
   "metadata": {
    "application/vnd.databricks.v1+cell": {
     "cellMetadata": {},
     "inputWidgets": {},
     "nuid": "74f2645d-839c-4775-beec-6d5bfa4d284d",
     "showTitle": false,
     "tableResultSettingsMap": {},
     "title": ""
    }
   },
   "source": [
    "# ハンズオンデータの準備\n",
    "\n",
    "サーバレスコンピュートで実行可能です。"
   ]
  },
  {
   "cell_type": "markdown",
   "metadata": {
    "application/vnd.databricks.v1+cell": {
     "cellMetadata": {},
     "inputWidgets": {},
     "nuid": "56b6760f-a1c1-4de4-b6e7-4e35d2ba4b2c",
     "showTitle": false,
     "tableResultSettingsMap": {},
     "title": ""
    }
   },
   "source": [
    "## データの準備"
   ]
  },
  {
   "cell_type": "code",
   "execution_count": 0,
   "metadata": {
    "application/vnd.databricks.v1+cell": {
     "cellMetadata": {
      "byteLimit": 2048000,
      "rowLimit": 10000
     },
     "inputWidgets": {},
     "nuid": "bef3689c-d08d-4528-9101-ae9018d74867",
     "showTitle": false,
     "tableResultSettingsMap": {},
     "title": ""
    }
   },
   "outputs": [],
   "source": [
    "%run ./config"
   ]
  },
  {
   "cell_type": "code",
   "execution_count": 0,
   "metadata": {
    "application/vnd.databricks.v1+cell": {
     "cellMetadata": {
      "byteLimit": 2048000,
      "rowLimit": 10000
     },
     "inputWidgets": {},
     "nuid": "17c71ec2-85db-42ed-96e3-c8d41da23c46",
     "showTitle": false,
     "tableResultSettingsMap": {},
     "title": ""
    }
   },
   "outputs": [],
   "source": [
    "# カタログの作成\n",
    "spark.sql(f\"CREATE CATALOG IF NOT EXISTS {catalog_name}\")\n",
    "spark.sql(f\"GRANT USE CATALOG ON CATALOG {catalog_name} TO `account users`\")\n",
    "# スキーマの作成\n",
    "spark.sql(f\"CREATE SCHEMA IF NOT EXISTS {catalog_name}.{system_schema_name}\")\n",
    "spark.sql(f\"GRANT USE SCHEMA, SELECT ON SCHEMA {catalog_name}.{system_schema_name} TO `account users`\")"
   ]
  },
  {
   "cell_type": "code",
   "execution_count": 0,
   "metadata": {
    "application/vnd.databricks.v1+cell": {
     "cellMetadata": {
      "byteLimit": 2048000,
      "rowLimit": 10000
     },
     "inputWidgets": {},
     "nuid": "7abc06cf-ecc6-4c7f-9718-b5295686221f",
     "showTitle": false,
     "tableResultSettingsMap": {},
     "title": ""
    }
   },
   "outputs": [],
   "source": [
    "# ボリュームの作成\n",
    "spark.sql(f\"CREATE VOLUME IF NOT EXISTS {catalog_name}.{system_schema_name}.data\")"
   ]
  },
  {
   "cell_type": "code",
   "execution_count": 0,
   "metadata": {
    "application/vnd.databricks.v1+cell": {
     "cellMetadata": {
      "byteLimit": 2048000,
      "rowLimit": 10000
     },
     "inputWidgets": {},
     "nuid": "3bd9b9c9-b7d7-4368-9fd7-46fc1659ef95",
     "showTitle": false,
     "tableResultSettingsMap": {},
     "title": ""
    }
   },
   "outputs": [],
   "source": [
    "import shutil\n",
    "import os\n",
    "\n",
    "# ボリュームパスの定義\n",
    "volume_path = f\"/Volumes/{catalog_name}/{system_schema_name}/data\"\n",
    "\n",
    "# ワークスペースファイルのパス\n",
    "workspace_data_path = f\"{os.getcwd()}/data\"\n",
    "\n",
    "# dataフォルダ内のCSVファイルをボリュームにコピー\n",
    "for fname in [\"cust_service_data.csv\", \"policies.csv\", \"product_docs.csv\"]:\n",
    "    src = os.path.join(workspace_data_path, fname)\n",
    "    dst = os.path.join(volume_path, fname)\n",
    "    shutil.copyfile(src, dst)\n",
    "\n",
    "# ボリューム上のCSVファイルを読み込み\n",
    "cust_service_data_df = (\n",
    "    spark.read.format(\"csv\")\n",
    "    .option(\"header\", True)\n",
    "    .option(\"inferSchema\", True)\n",
    "    .load(f\"{volume_path}/cust_service_data.csv\")\n",
    ")\n",
    "policies_df = (\n",
    "    spark.read.format(\"csv\")\n",
    "    .option(\"header\", True)\n",
    "    .option(\"inferSchema\", True)\n",
    "    .load(f\"{volume_path}/policies.csv\")\n",
    ")\n",
    "product_docs_df = (\n",
    "    spark.read.format(\"csv\")\n",
    "    .option(\"header\", True)\n",
    "    .option(\"inferSchema\", True)\n",
    "    .option(\"multiline\", True)\n",
    "    .load(f\"{volume_path}/product_docs.csv\")\n",
    ")\n",
    "\n",
    "display(cust_service_data_df)\n",
    "display(policies_df)\n",
    "display(product_docs_df)\n",
    "\n",
    "# Unity Catalogのテーブルに保存\n",
    "cust_service_data_df.write.mode(\"overwrite\").saveAsTable(f\"{catalog_name}.{system_schema_name}.cust_service_data\")\n",
    "policies_df.write.mode(\"overwrite\").saveAsTable(f\"{catalog_name}.{system_schema_name}.policies\")\n",
    "product_docs_df.write.mode(\"overwrite\").saveAsTable(f\"{catalog_name}.{system_schema_name}.product_docs\")"
   ]
  },
  {
   "cell_type": "markdown",
   "metadata": {
    "application/vnd.databricks.v1+cell": {
     "cellMetadata": {},
     "inputWidgets": {},
     "nuid": "f7f709d1-1fbf-4786-80b0-7454de8fc423",
     "showTitle": false,
     "tableResultSettingsMap": {},
     "title": ""
    }
   },
   "source": [
    "## Vector Search Indexの作成\n",
    "\n",
    "`02_agent_eval`で使用するVector Search Indexを作成します。各ユーザーはこのVector Search Indexを使用します。"
   ]
  },
  {
   "cell_type": "code",
   "execution_count": 0,
   "metadata": {
    "application/vnd.databricks.v1+cell": {
     "cellMetadata": {
      "byteLimit": 2048000,
      "rowLimit": 10000
     },
     "inputWidgets": {},
     "nuid": "5d692aad-1ecf-4fdd-ba6f-83986984e763",
     "showTitle": false,
     "tableResultSettingsMap": {},
     "title": ""
    }
   },
   "outputs": [],
   "source": [
    "# ソーステーブル名\n",
    "source_table = f\"{catalog_name}.{system_schema_name}.product_docs\"\n",
    "\n",
    "# Change Data Feedを有効にする\n",
    "spark.sql(f\"\"\"\n",
    "    ALTER TABLE {source_table} \n",
    "    SET TBLPROPERTIES (delta.enableChangeDataFeed = true)\n",
    "\"\"\")\n",
    "\n",
    "print(f\"✅ {source_table} のチェンジデータフィードの有効化\")\n",
    "\n",
    "# 設定を確認\n",
    "spark.sql(f\"SHOW TBLPROPERTIES {source_table}\").filter(\"key = 'delta.enableChangeDataFeed'\").show()"
   ]
  },
  {
   "cell_type": "code",
   "execution_count": 0,
   "metadata": {
    "application/vnd.databricks.v1+cell": {
     "cellMetadata": {
      "byteLimit": 2048000,
      "rowLimit": 10000
     },
     "inputWidgets": {},
     "nuid": "f3369a8a-6279-4280-b6c2-e4c3cce7bb14",
     "showTitle": false,
     "tableResultSettingsMap": {},
     "title": ""
    }
   },
   "outputs": [],
   "source": [
    "import requests\n",
    "import json\n",
    "import time\n",
    "\n",
    "context = dbutils.notebook.entry_point.getDbutils().notebook().getContext()\n",
    "host = context.apiUrl().get()\n",
    "token = context.apiToken().get()\n",
    "\n",
    "headers = {\n",
    "    \"Authorization\": f\"Bearer {token}\",\n",
    "    \"Content-Type\": \"application/json\"\n",
    "}\n",
    "\n",
    "# パラメータ\n",
    "endpoint_name = \"vector-search-endpoint-1\" # 必要に応じて変更ください\n",
    "index_name = f\"{catalog_name}.{system_schema_name}.product_docs_index\"\n",
    "source_table = f\"{catalog_name}.{system_schema_name}.product_docs\"\n",
    "\n",
    "# Vector Search Endpointの存在確認と作成\n",
    "endpoint_url = f\"{host}/api/2.0/vector-search/endpoints/{endpoint_name}\"\n",
    "create_endpoint_url = f\"{host}/api/2.0/vector-search/endpoints\"\n",
    "\n",
    "response = requests.get(endpoint_url, headers=headers)\n",
    "if response.status_code == 200:\n",
    "    print(f\"✅ Vector Search Endpoint '{endpoint_name}' は既に存在します\")\n",
    "else:\n",
    "    print(f\"🔄 Vector Search Endpoint '{endpoint_name}' を作成します...\")\n",
    "    payload = {\n",
    "        \"name\": endpoint_name,\n",
    "        \"endpoint_type\": \"STANDARD\"\n",
    "    }\n",
    "    create_response = requests.post(create_endpoint_url, headers=headers, json=payload)\n",
    "    if create_response.status_code in [200, 201]:\n",
    "        print(f\"✅ Vector Search Endpoint '{endpoint_name}' を作成しました！\")\n",
    "    elif create_response.status_code == 409:\n",
    "        print(f\"⚠️  Vector Search Endpoint '{endpoint_name}' は既に存在します (409)\")\n",
    "    else:\n",
    "        print(f\"❌ Endpoint作成エラー: {create_response.status_code}\")\n",
    "        print(create_response.text)\n",
    "\n",
    "# インデックスを作成\n",
    "url = f\"{host}/api/2.0/vector-search/indexes\"\n",
    "\n",
    "payload = {\n",
    "    \"name\": index_name,\n",
    "    \"endpoint_name\": endpoint_name,\n",
    "    \"primary_key\": \"product_id\",\n",
    "    \"index_type\": \"DELTA_SYNC\",\n",
    "    \"delta_sync_index_spec\": {\n",
    "        \"source_table\": source_table,\n",
    "        \"pipeline_type\": \"TRIGGERED\",\n",
    "        \"embedding_source_columns\": [{  # columnsは配列形式\n",
    "            \"name\": \"product_doc\",\n",
    "            \"embedding_model_endpoint_name\": \"databricks-gte-large-en\"\n",
    "        }]\n",
    "    }\n",
    "}\n",
    "\n",
    "print(\"Vector Search Indexを作成中...\")\n",
    "response = requests.post(url, headers=headers, json=payload)\n",
    "\n",
    "if response.status_code in [200, 201]:\n",
    "    print(\"✅ インデックス作成リクエストが正常に送信されました！\")\n",
    "    print(\"📊 初回同期は自動的に開始されます...\\n\")\n",
    "else:\n",
    "    print(f\"❌ インデックス作成エラー: {response.status_code}\")\n",
    "    print(response.text)"
   ]
  },
  {
   "cell_type": "code",
   "execution_count": 0,
   "metadata": {
    "application/vnd.databricks.v1+cell": {
     "cellMetadata": {
      "byteLimit": 2048000,
      "rowLimit": 10000
     },
     "inputWidgets": {},
     "nuid": "7255c5ce-3bbe-4c91-911c-09b9503a775c",
     "showTitle": false,
     "tableResultSettingsMap": {},
     "title": ""
    }
   },
   "outputs": [],
   "source": [
    "if response.status_code in [200, 201]:\n",
    "    \n",
    "    # インデックスの状態を監視\n",
    "    def monitor_index_status(index_name, timeout_minutes=60):\n",
    "        status_url = f\"{host}/api/2.0/vector-search/indexes/{index_name}\"\n",
    "        start_time = time.time()\n",
    "        timeout_seconds = timeout_minutes * 60\n",
    "        \n",
    "        print(f\"⏳ インデックスの状態を監視中...\")\n",
    "        print(f\"タイムアウト: {timeout_minutes} 分\")\n",
    "        print(\"-\" * 70)\n",
    "        \n",
    "        previous_count = 0\n",
    "        first_check = True\n",
    "        \n",
    "        while time.time() - start_time < timeout_seconds:\n",
    "            try:\n",
    "                response = requests.get(status_url, headers=headers)\n",
    "                \n",
    "                if response.status_code == 200:\n",
    "                    data = response.json()\n",
    "                    status = data.get(\"status\", {})\n",
    "                    spec = data.get(\"delta_sync_index_spec\", {})\n",
    "                    \n",
    "                    # ステータス情報\n",
    "                    state = status.get(\"detailed_state\", \"不明\")\n",
    "                    ready = status.get(\"ready\", False)\n",
    "                    indexed_count = status.get(\"indexed_row_count\", 0)\n",
    "                    message = status.get(\"message\", \"\")\n",
    "                    \n",
    "                    # 最初のチェックで総行数を取得\n",
    "                    if first_check:\n",
    "                        total_rows = spec.get(\"num_rows\", 0)\n",
    "                        if total_rows > 0:\n",
    "                            print(f\"📊 インデックス対象の総行数: {total_rows:,}\")\n",
    "                        first_check = False\n",
    "                    \n",
    "                    # 進捗表示\n",
    "                    elapsed = int(time.time() - start_time)\n",
    "                    rows_diff = indexed_count - previous_count\n",
    "                    speed = f\"{rows_diff:,} 行\" if rows_diff > 0 else \"初期化中\"\n",
    "                    \n",
    "                    print(f\"\\r⏱️  {elapsed//60}分 {elapsed%60}秒 | \"\n",
    "                          f\"状態: {state} | \"\n",
    "                          f\"行数: {indexed_count:,} | \"\n",
    "                          f\"速度: {speed}/30秒 | \"\n",
    "                          f\"準備完了: {ready}\", end=\"\")\n",
    "                    \n",
    "                    previous_count = indexed_count\n",
    "                    \n",
    "                    # 成功判定：readyがTrueかつstateがONLINE系\n",
    "                    if ready == True and (\"ONLINE\" in state or state == \"READY\"):\n",
    "                      print(f\"\\n\\n✅ インデックスの準備ができました！\")\n",
    "                      print(f\"📊 インデックス済み総行数: {indexed_count:,}\")\n",
    "                      print(f\"⏱️  合計時間: {elapsed//60}分 {elapsed%60}秒\")\n",
    "                      print(f\"📋 最終状態: {state}\")\n",
    "                      return True\n",
    "                \n",
    "                    # エラー判定\n",
    "                    if state in [\"FAILED\", \"ERROR\"]:\n",
    "                      print(f\"\\n\\n❌ インデックス作成に失敗しました！\")\n",
    "                      print(f\"エラー状態: {state}\")\n",
    "                      return False\n",
    "                \n",
    "                    # タイムアウト判定\n",
    "                    if elapsed > timeout_seconds:\n",
    "                      print(f\"\\n\\n⏰ {timeout_minutes}分後にタイムアウトしました\")\n",
    "                      print(f\"最終状態: {state}, 準備完了: {ready}\")\n",
    "                      return False\n",
    "                        \n",
    "                else:\n",
    "                    print(f\"\\n⚠️  ステータス確認エラー: {response.status_code}\")\n",
    "                    print(response.text)\n",
    "                \n",
    "                time.sleep(30)  # 30秒ごとにチェック\n",
    "                \n",
    "            except Exception as e:\n",
    "                print(f\"\\n⚠️  例外発生: {e}\")\n",
    "                time.sleep(30)\n",
    "        \n",
    "        print(f\"\\n\\n⏰ {timeout_minutes}分でタイムアウトしました\")\n",
    "        return False\n",
    "    \n",
    "    # インデックスの監視を開始\n",
    "    success = monitor_index_status(index_name, timeout_minutes=60)\n",
    "    \n",
    "    if success:\n",
    "        print(\"\\n🎉 ベクターサーチインデックスの準備ができました！\")\n",
    "        \n",
    "        # 最終的なインデックス情報を表示\n",
    "        final_url = f\"{host}/api/2.0/vector-search/indexes/{index_name}\"\n",
    "        final_response = requests.get(final_url, headers=headers)\n",
    "        if final_response.status_code == 200:\n",
    "            final_data = final_response.json()\n",
    "            print(f\"\\n📋 インデックス詳細:\")\n",
    "            print(f\"  - 名前: {final_data.get('name')}\")\n",
    "            print(f\"  - エンドポイント: {final_data.get('endpoint_name')}\")\n",
    "            print(f\"  - ステータス: {final_data.get('status', {}).get('detailed_state')}\")\n",
    "            print(f\"  - 行数: {final_data.get('status', {}).get('indexed_row_count', 0):,}\")\n",
    "    else:\n",
    "        print(\"\\n😞 インデックス作成が正常に完了しませんでした\")\n",
    "        \n",
    "elif response.status_code == 409:\n",
    "    print(\"⚠️  インデックスはすでに存在します\")\n",
    "    print(\"必要に応じて削除して再作成できます\")\n",
    "else:\n",
    "    print(f\"❌ インデックス作成エラー: {response.status_code}\")\n",
    "    print(response.text)"
   ]
  },
  {
   "cell_type": "markdown",
   "metadata": {
    "application/vnd.databricks.v1+cell": {
     "cellMetadata": {},
     "inputWidgets": {},
     "nuid": "1cb67d01-06b6-456d-9982-51c9cf3b808f",
     "showTitle": false,
     "tableResultSettingsMap": {},
     "title": ""
    }
   },
   "source": [
    "# END"
   ]
  }
 ],
 "metadata": {
  "application/vnd.databricks.v1+notebook": {
   "computePreferences": {
    "hardware": {
     "accelerator": null,
     "gpuPoolId": null,
     "memory": null
    }
   },
   "dashboards": [],
   "environmentMetadata": {
    "base_environment": "",
    "environment_version": "2"
   },
   "inputWidgetPreferences": null,
   "language": "python",
   "notebookMetadata": {
    "mostRecentlyExecutedCommandWithImplicitDF": {
     "commandId": 6494846239111437,
     "dataframes": [
      "_sqldf"
     ]
    },
    "pythonIndentUnit": 4
   },
   "notebookName": "00_Data preparation",
   "widgets": {}
  },
  "language_info": {
   "name": "python"
  }
 },
 "nbformat": 4,
 "nbformat_minor": 0
}

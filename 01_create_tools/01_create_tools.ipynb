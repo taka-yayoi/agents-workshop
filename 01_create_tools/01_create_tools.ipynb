{
 "cells": [
  {
   "cell_type": "markdown",
   "metadata": {
    "application/vnd.databricks.v1+cell": {
     "cellMetadata": {},
     "inputWidgets": {},
     "nuid": "e8ec382d-ea66-4c76-96cd-9bdb96a1d007",
     "showTitle": false,
     "tableResultSettingsMap": {},
     "title": ""
    }
   },
   "source": [
    "# ハンズオンラボ：Databricksでエージェントシステムを構築する\n",
    "\n",
    "**環境バージョン1のサーバレスコンピュートを使用してください。**\n",
    "\n",
    "## パート1 - 最初のエージェントを設計する\n",
    "この最初のエージェントは、カスタマーサービス担当者のワークフローに従い、さまざまなエージェント機能を説明します。\n",
    "商品返品の処理に焦点を当て、具体的な手順を追っていきます。\n",
    "\n",
    "### 1.1 シンプルなツールを作成する\n",
    "- **SQL関数**：返品処理ワークフローの各ステップで重要となるデータへアクセスするクエリを作成します。\n",
    "- **シンプルなPython関数**：言語モデルの一般的な制限を克服するためのPython関数を作成し、登録します。\n",
    "\n",
    "### 1.2 LLMとの統合【AI Playground】\n",
    "- 作成したツールを言語モデル（LLM）と組み合わせてAI Playgroundで利用します。\n",
    "\n",
    "### 1.3 エージェントのテスト【AI Playground】\n",
    "- エージェントに質問し、応答を観察します。\n",
    "- MLflowトレースを活用してエージェントのパフォーマンスをさらに深く探ります。"
   ]
  },
  {
   "cell_type": "code",
   "execution_count": 0,
   "metadata": {
    "application/vnd.databricks.v1+cell": {
     "cellMetadata": {
      "byteLimit": 2048000,
      "rowLimit": 10000
     },
     "inputWidgets": {},
     "nuid": "35172dcd-c3cc-407d-b1f6-07ce65e44fc2",
     "showTitle": true,
     "tableResultSettingsMap": {},
     "title": "ライブラリのインストール"
    }
   },
   "outputs": [],
   "source": [
    "# serverless computeの場合は不要\n",
    "#%pip install -qqqq -U -r requirements.txt\n",
    "# パッケージをPython環境にロードするために再起動します\n",
    "#dbutils.library.restartPython()"
   ]
  },
  {
   "cell_type": "code",
   "execution_count": 0,
   "metadata": {
    "application/vnd.databricks.v1+cell": {
     "cellMetadata": {
      "byteLimit": 2048000,
      "rowLimit": 10000
     },
     "inputWidgets": {},
     "nuid": "8c708277-3ce3-434d-a344-5591e5fe9322",
     "showTitle": false,
     "tableResultSettingsMap": {},
     "title": ""
    }
   },
   "outputs": [],
   "source": [
    "%run ../config"
   ]
  },
  {
   "cell_type": "code",
   "execution_count": 0,
   "metadata": {
    "application/vnd.databricks.v1+cell": {
     "cellMetadata": {
      "byteLimit": 2048000,
      "rowLimit": 10000
     },
     "inputWidgets": {},
     "nuid": "ff3cb9a5-3a52-4065-9553-a45c3d64dc30",
     "showTitle": true,
     "tableResultSettingsMap": {},
     "title": "パラメーター設定"
    }
   },
   "outputs": [],
   "source": [
    "from databricks.sdk import WorkspaceClient\n",
    "import os\n",
    "import re\n",
    "\n",
    "# ワークスペースクライアントを使用して現在のユーザーに関する情報を取得\n",
    "w = WorkspaceClient()\n",
    "user_email = w.current_user.me().emails[0].value\n",
    "username = user_email.split('@')[0]\n",
    "username = re.sub(r'[^a-zA-Z0-9_]', '_', username) # 特殊文字をアンダースコアに置換\n",
    "\n",
    "# スキーマを指定します\n",
    "user_schema_name = f\"agents_lab_{username}\" # ユーザーごとのスキーマ\n",
    "\n",
    "print(\"あなたのカタログは:\", catalog_name)\n",
    "print(\"あなたのスキーマは:\", user_schema_name)\n",
    "\n",
    "# スキーマを作成\n",
    "spark.sql(f\"CREATE SCHEMA IF NOT EXISTS {catalog_name}.{user_schema_name}\")"
   ]
  },
  {
   "cell_type": "markdown",
   "metadata": {
    "application/vnd.databricks.v1+cell": {
     "cellMetadata": {},
     "inputWidgets": {},
     "nuid": "61f820a9-7da6-4127-b8bb-cf2b6daeeed3",
     "showTitle": false,
     "tableResultSettingsMap": {},
     "title": ""
    }
   },
   "source": [
    "# カスタマーサービス返品処理ワークフロー\n",
    "\n",
    "以下は、カスタマーサービス担当者が**返品を処理する際**に通常従う**主要なステップ**の構造化された概要です。このワークフローにより、サポートチーム全体で一貫性と明確さが確保されます。\n",
    "\n",
    "---\n",
    "\n",
    "## 1. 処理キュー内の最新の返品を取得する\n",
    "- **アクション**：チケッティングまたは返品システムから最新の返品リクエストを特定し、取得します。  \n",
    "- **理由**：最も緊急または次に対応すべき顧客の問題に取り組んでいることを保証します。\n",
    "\n",
    "---"
   ]
  },
  {
   "cell_type": "code",
   "execution_count": 0,
   "metadata": {
    "application/vnd.databricks.v1+cell": {
     "cellMetadata": {
      "byteLimit": 2048000,
      "implicitDf": true,
      "rowLimit": 10000
     },
     "inputWidgets": {},
     "nuid": "b6117c3c-bb15-42bb-a8cf-4b4d4baa44fc",
     "showTitle": false,
     "tableResultSettingsMap": {},
     "title": ""
    }
   },
   "outputs": [],
   "source": [
    "# カタログ名を表示\n",
    "query = f\"SELECT '{catalog_name}' as catalog_name\"\n",
    "df = spark.sql(query)\n",
    "display(df)"
   ]
  },
  {
   "cell_type": "code",
   "execution_count": 0,
   "metadata": {
    "application/vnd.databricks.v1+cell": {
     "cellMetadata": {
      "byteLimit": 2048000,
      "implicitDf": true,
      "rowLimit": 10000
     },
     "inputWidgets": {},
     "nuid": "6d2f6718-4637-41d9-a5c7-6c5c27d89d19",
     "showTitle": true,
     "tableResultSettingsMap": {},
     "title": "処理キューにおける最新の返品を取得"
    }
   },
   "outputs": [],
   "source": [
    "# 最新の返品を取得\n",
    "query = (\n",
    "    f\"SELECT \"\n",
    "    f\"  cast(date_time as date) as case_time, \"\n",
    "    f\"  issue_category, \"\n",
    "    f\"  issue_description, \"\n",
    "    f\"  name \"\n",
    "    f\"FROM {catalog_name}.{system_schema_name}.cust_service_data \"\n",
    "    f\"ORDER BY date_time DESC \"\n",
    "    f\"LIMIT 1\"\n",
    ")\n",
    "df = spark.sql(query)\n",
    "display(df)"
   ]
  },
  {
   "cell_type": "code",
   "execution_count": 0,
   "metadata": {
    "application/vnd.databricks.v1+cell": {
     "cellMetadata": {
      "byteLimit": 2048000,
      "implicitDf": true,
      "rowLimit": 10000
     },
     "inputWidgets": {},
     "nuid": "c95e1f14-9bd4-42d9-a746-39e1fab050ac",
     "showTitle": false,
     "tableResultSettingsMap": {},
     "title": ""
    }
   },
   "outputs": [],
   "source": [
    "# カタログとスキーマをセット\n",
    "spark.sql(f\"USE CATALOG {catalog_name}\")\n",
    "spark.sql(f\"USE SCHEMA {system_schema_name}\")"
   ]
  },
  {
   "cell_type": "code",
   "execution_count": 0,
   "metadata": {
    "application/vnd.databricks.v1+cell": {
     "cellMetadata": {
      "byteLimit": 2048000,
      "implicitDf": true,
      "rowLimit": 10000
     },
     "inputWidgets": {},
     "nuid": "3e43986f-f577-44ef-b62c-00bcc05ed261",
     "showTitle": true,
     "tableResultSettingsMap": {},
     "title": "Unity Catalogに登録される関数を作成"
    }
   },
   "outputs": [],
   "source": [
    "# 最新の返品取得関数を作成\n",
    "query = f'''\n",
    "CREATE OR REPLACE FUNCTION \n",
    "  {catalog_name}.{user_schema_name}.get_latest_return()\n",
    "RETURNS TABLE(purchase_date DATE, issue_category STRING, issue_description STRING, name STRING)\n",
    "COMMENT '最新のカスタマーサービス対応（返品など）を返します。'\n",
    "RETURN (\n",
    "  SELECT \n",
    "    CAST(date_time AS DATE) AS purchase_date,\n",
    "    issue_category,\n",
    "    issue_description,\n",
    "    name\n",
    "  FROM {catalog_name}.{system_schema_name}.cust_service_data\n",
    "  ORDER BY date_time DESC\n",
    "  LIMIT 1\n",
    ");\n",
    "'''\n",
    "spark.sql(query)"
   ]
  },
  {
   "cell_type": "code",
   "execution_count": 0,
   "metadata": {
    "application/vnd.databricks.v1+cell": {
     "cellMetadata": {
      "byteLimit": 2048000,
      "implicitDf": true,
      "rowLimit": 10000
     },
     "inputWidgets": {},
     "nuid": "8fb701d4-7b17-4a71-9810-daacae824184",
     "showTitle": true,
     "tableResultSettingsMap": {},
     "title": "最新の返品を取得するために関数呼び出しをテスト"
    }
   },
   "outputs": [],
   "source": [
    "# 最新の返品取得関数のテスト\n",
    "query = f\"SELECT * FROM {catalog_name}.{user_schema_name}.get_latest_return()\"\n",
    "df = spark.sql(query)\n",
    "display(df)"
   ]
  },
  {
   "cell_type": "markdown",
   "metadata": {
    "application/vnd.databricks.v1+cell": {
     "cellMetadata": {},
     "inputWidgets": {},
     "nuid": "a9cfd2a5-ed00-4f6e-a38e-e75a1da3d27e",
     "showTitle": false,
     "tableResultSettingsMap": {},
     "title": ""
    }
   },
   "source": [
    "---\n",
    "\n",
    "## 2. 会社のポリシーを取得する\n",
    "- **アクション**：返品、返金、および交換に関する内部ナレッジベースまたはポリシー文書にアクセスします。  \n",
    "- **理由**：会社のガイドラインに準拠していることを確認することで、潜在的なエラーや対立を防ぎます。\n",
    "\n",
    "---"
   ]
  },
  {
   "cell_type": "code",
   "execution_count": 0,
   "metadata": {
    "application/vnd.databricks.v1+cell": {
     "cellMetadata": {
      "byteLimit": 2048000,
      "implicitDf": true,
      "rowLimit": 10000
     },
     "inputWidgets": {},
     "nuid": "c97a54c5-279f-4650-a9da-e290cf7db777",
     "showTitle": true,
     "tableResultSettingsMap": {},
     "title": "返品ポリシーを取得する関数の呼び出し"
    }
   },
   "outputs": [],
   "source": [
    "# 返品ポリシー取得関数を作成\n",
    "query = f'''\n",
    "CREATE OR REPLACE FUNCTION\n",
    "  {catalog_name}.{user_schema_name}.get_return_policy()\n",
    "RETURNS TABLE (\n",
    "  policy           STRING,\n",
    "  policy_details   STRING,\n",
    "  last_updated     DATE\n",
    ")\n",
    "COMMENT '返品ポリシーの詳細を返します'\n",
    "LANGUAGE SQL\n",
    "RETURN (\n",
    "  SELECT\n",
    "    policy,\n",
    "    policy_details,\n",
    "    last_updated\n",
    "  FROM {catalog_name}.{system_schema_name}.policies\n",
    "  WHERE policy = 'Return Policy'\n",
    "  LIMIT 1\n",
    ");\n",
    "'''\n",
    "spark.sql(query)"
   ]
  },
  {
   "cell_type": "code",
   "execution_count": 0,
   "metadata": {
    "application/vnd.databricks.v1+cell": {
     "cellMetadata": {
      "byteLimit": 2048000,
      "implicitDf": true,
      "rowLimit": 10000
     },
     "inputWidgets": {},
     "nuid": "02a3182e-1979-4b5e-9f2d-2d1ecaf74f6c",
     "showTitle": true,
     "tableResultSettingsMap": {
      "0": {
       "dataGridStateBlob": "{\"version\":1,\"tableState\":{\"columnPinning\":{\"left\":[\"#row_number#\"],\"right\":[]},\"columnSizing\":{\"#row_number#\":53},\"columnVisibility\":{}},\"settings\":{\"columns\":{}},\"syncTimestamp\":1754382268561}",
       "filterBlob": null,
       "queryPlanFiltersBlob": null,
       "tableResultIndex": 0
      }
     },
     "title": "返品ポリシーを取得する関数のテスト"
    }
   },
   "outputs": [],
   "source": [
    "# 返品ポリシー取得関数のテスト\n",
    "query = f\"SELECT * FROM {catalog_name}.{user_schema_name}.get_return_policy()\"\n",
    "df = spark.sql(query)\n",
    "display(df)"
   ]
  },
  {
   "cell_type": "markdown",
   "metadata": {
    "application/vnd.databricks.v1+cell": {
     "cellMetadata": {},
     "inputWidgets": {},
     "nuid": "b27b8d8e-77ce-4cbd-8b56-99cb1a8500b8",
     "showTitle": false,
     "tableResultSettingsMap": {},
     "title": ""
    }
   },
   "source": [
    "---\n",
    "\n",
    "## 3. 最新の返品のUserIDを取得する\n",
    "- **アクション**：返品リクエストの詳細からユーザーの一意の識別子を記録します。  \n",
    "- **理由**：正しいユーザーデータを正確に参照することで、処理が効率化され、顧客記録の混同を防ぎます。\n",
    "\n",
    "---"
   ]
  },
  {
   "cell_type": "code",
   "execution_count": 0,
   "metadata": {
    "application/vnd.databricks.v1+cell": {
     "cellMetadata": {
      "byteLimit": 2048000,
      "implicitDf": true,
      "rowLimit": 10000
     },
     "inputWidgets": {},
     "nuid": "21553c9a-0be6-4f3d-bfe0-3de3087edc7d",
     "showTitle": true,
     "tableResultSettingsMap": {},
     "title": "名前に基づいてuserIDを取得する関数の作成"
    }
   },
   "outputs": [],
   "source": [
    "# 名前に基づいてuserIDを取得する関数の作成\n",
    "query = f'''\n",
    "CREATE OR REPLACE FUNCTION\n",
    "  {catalog_name}.{user_schema_name}.get_user_id(user_name STRING)\n",
    "RETURNS STRING\n",
    "COMMENT 'これは顧客の名前を入力として受け取り、対応するユーザーIDを返します'\n",
    "LANGUAGE SQL\n",
    "RETURN \n",
    "SELECT customer_id \n",
    "FROM {catalog_name}.{system_schema_name}.cust_service_data \n",
    "WHERE name = user_name\n",
    "LIMIT 1\n",
    ";\n",
    "'''\n",
    "spark.sql(query)"
   ]
  },
  {
   "cell_type": "code",
   "execution_count": 0,
   "metadata": {
    "application/vnd.databricks.v1+cell": {
     "cellMetadata": {
      "byteLimit": 2048000,
      "implicitDf": true,
      "rowLimit": 10000
     },
     "inputWidgets": {},
     "nuid": "356f772f-cf09-448e-9de5-323b8ea5ec64",
     "showTitle": true,
     "tableResultSettingsMap": {},
     "title": "名前に基づいてuserIDを取得する関数のテスト"
    }
   },
   "outputs": [],
   "source": [
    "# 名前に基づいてuserIDを取得する関数のテスト\n",
    "user_name = \"Nicolas Pelaez\"\n",
    "query = f\"SELECT {catalog_name}.{user_schema_name}.get_user_id('{user_name}') as user_id\"\n",
    "df = spark.sql(query)\n",
    "display(df)"
   ]
  },
  {
   "cell_type": "markdown",
   "metadata": {
    "application/vnd.databricks.v1+cell": {
     "cellMetadata": {},
     "inputWidgets": {},
     "nuid": "b68a3810-d1ea-4746-90bd-03d45d68bc42",
     "showTitle": false,
     "tableResultSettingsMap": {},
     "title": ""
    }
   },
   "source": [
    "---\n",
    "\n",
    "## 4. UserIDを使って注文履歴を照会する\n",
    "- **アクション**：UserIDを使って注文管理システムや顧客データベースを検索します。  \n",
    "- **理由**：過去の購入履歴や返品傾向、特記事項を確認することで、次に取るべき適切な対応（例：返品の適格性の確認）を判断できます。\n",
    "\n",
    "---"
   ]
  },
  {
   "cell_type": "code",
   "execution_count": 0,
   "metadata": {
    "application/vnd.databricks.v1+cell": {
     "cellMetadata": {
      "byteLimit": 2048000,
      "implicitDf": true,
      "rowLimit": 10000
     },
     "inputWidgets": {},
     "nuid": "38ae83ee-8a7d-4088-845f-a2c79771ef5a",
     "showTitle": true,
     "tableResultSettingsMap": {},
     "title": "userIDに基づいて注文履歴を取得する関数の作成"
    }
   },
   "outputs": [],
   "source": [
    "# userIDに基づいて注文履歴を取得する関数の作成\n",
    "query = f'''\n",
    "CREATE OR REPLACE FUNCTION\n",
    "  {catalog_name}.{user_schema_name}.get_order_history(user_id STRING)\n",
    "RETURNS TABLE (returns_last_12_months INT, issue_category STRING)\n",
    "COMMENT 'これは顧客のuser_idを入力として受け取り、過去12か月間の返品数と問題カテゴリを返します'\n",
    "LANGUAGE SQL\n",
    "RETURN \n",
    "SELECT count(*) as returns_last_12_months, issue_category \n",
    "FROM {catalog_name}.{system_schema_name}.cust_service_data \n",
    "WHERE customer_id = user_id \n",
    "GROUP BY issue_category;\n",
    "'''\n",
    "spark.sql(query)"
   ]
  },
  {
   "cell_type": "code",
   "execution_count": 0,
   "metadata": {
    "application/vnd.databricks.v1+cell": {
     "cellMetadata": {
      "byteLimit": 2048000,
      "implicitDf": true,
      "rowLimit": 10000
     },
     "inputWidgets": {},
     "nuid": "fd4a571e-5663-4644-91fc-e9ef770eaad7",
     "showTitle": true,
     "tableResultSettingsMap": {},
     "title": "userIDに基づいて注文履歴を取得する関数のテスト"
    }
   },
   "outputs": [],
   "source": [
    "# userIDに基づいて注文履歴を取得する関数のテスト\n",
    "user_id = \"453e50e0-232e-44ea-9fe3-28d550be6294\"\n",
    "query = f\"SELECT * FROM {catalog_name}.{user_schema_name}.get_order_history('{user_id}')\"\n",
    "df = spark.sql(query)\n",
    "display(df)"
   ]
  },
  {
   "cell_type": "markdown",
   "metadata": {
    "application/vnd.databricks.v1+cell": {
     "cellMetadata": {},
     "inputWidgets": {},
     "nuid": "52c9654c-fe8c-4186-8996-23c489d6bbe6",
     "showTitle": false,
     "tableResultSettingsMap": {},
     "title": ""
    }
   },
   "source": [
    "---\n",
    "\n",
    "## 5. LLMに今日の日付を取得するPython関数を提供する\n",
    "- **アクション**：LLM（大規模言語モデル）に現在の日付を提供できる**Python関数**を用意します。  \n",
    "- **理由**：日付の自動取得により、集荷のスケジューリング、返金のタイムライン、連絡期限などの管理が容易になります。\n",
    "\n",
    "###### 注：System.ai.python_execに登録された関数を使うことで、LLMが生成したコードをサンドボックス環境で実行できます\n",
    "---"
   ]
  },
  {
   "cell_type": "code",
   "execution_count": 0,
   "metadata": {
    "application/vnd.databricks.v1+cell": {
     "cellMetadata": {
      "byteLimit": 2048000,
      "rowLimit": 10000
     },
     "inputWidgets": {},
     "nuid": "a4c102c2-339b-4a7b-a760-d6623b337bdc",
     "showTitle": true,
     "tableResultSettingsMap": {},
     "title": "非常にシンプルなPython関数"
    }
   },
   "outputs": [],
   "source": [
    "def get_todays_date() -> str:\n",
    "    \"\"\"\n",
    "    今日の日付を 'YYYY-MM-DD' 形式で返します。\n",
    "\n",
    "    Returns:\n",
    "        str: 今日の日付を 'YYYY-MM-DD' 形式で返します。\n",
    "    \"\"\"\n",
    "    from datetime import datetime\n",
    "    return datetime.now().strftime(\"%Y-%m-%d\")"
   ]
  },
  {
   "cell_type": "code",
   "execution_count": 0,
   "metadata": {
    "application/vnd.databricks.v1+cell": {
     "cellMetadata": {
      "byteLimit": 2048000,
      "rowLimit": 10000
     },
     "inputWidgets": {},
     "nuid": "71932239-8cbf-4f4d-a7b9-caa5730ea906",
     "showTitle": true,
     "tableResultSettingsMap": {},
     "title": "Python関数のテスト"
    }
   },
   "outputs": [],
   "source": [
    "today = get_todays_date()\n",
    "today"
   ]
  },
  {
   "cell_type": "code",
   "execution_count": 0,
   "metadata": {
    "application/vnd.databricks.v1+cell": {
     "cellMetadata": {
      "byteLimit": 2048000,
      "rowLimit": 10000
     },
     "inputWidgets": {},
     "nuid": "85c03cfb-71c4-4fab-ab37-bea0681bbace",
     "showTitle": true,
     "tableResultSettingsMap": {},
     "title": "Python関数をUnity Catalogに登録"
    }
   },
   "outputs": [],
   "source": [
    "from unitycatalog.ai.core.databricks import DatabricksFunctionClient\n",
    "\n",
    "client = DatabricksFunctionClient()\n",
    "\n",
    "# このツールをUCにデプロイし、ツールのdocstringと型ヒントに基づいてUCのメタデータを自動的に設定します\n",
    "python_tool_uc_info = client.create_python_function(func=get_todays_date, catalog=catalog_name, schema=user_schema_name, replace=True)\n",
    "\n",
    "# ツールはUC内の `{catalog}.{schema}.{func}` という名前の関数にデプロイされます。ここで {func} は関数の名前です\n",
    "# デプロイされたUnity Catalog関数名を表示します\n",
    "display(f\"デプロイされたUnity Catalog関数名: {python_tool_uc_info.full_name}\")"
   ]
  },
  {
   "cell_type": "code",
   "execution_count": 0,
   "metadata": {
    "application/vnd.databricks.v1+cell": {
     "cellMetadata": {
      "byteLimit": 2048000,
      "rowLimit": 10000
     },
     "inputWidgets": {},
     "nuid": "571190a0-b107-446c-b170-0f9b0a161544",
     "showTitle": true,
     "tableResultSettingsMap": {},
     "title": "作成した関数を見てみましょう"
    }
   },
   "outputs": [],
   "source": [
    "from IPython.display import display, HTML\n",
    "\n",
    "# DatabricksのホストURLを取得\n",
    "workspace_url = spark.conf.get('spark.databricks.workspaceUrl')\n",
    "\n",
    "# 作成した関数へのHTMLリンクを作成\n",
    "html_link = f'<a href=\"https://{workspace_url}/explore/data/functions/{catalog_name}/{user_schema_name}/get_todays_date\" target=\"_blank\">登録済み関数をUnity Catalogで確認</a>'\n",
    "display(HTML(html_link))"
   ]
  },
  {
   "cell_type": "markdown",
   "metadata": {
    "application/vnd.databricks.v1+cell": {
     "cellMetadata": {},
     "inputWidgets": {},
     "nuid": "3f99d12d-9be1-4464-a8bd-3533735e8220",
     "showTitle": false,
     "tableResultSettingsMap": {},
     "title": ""
    }
   },
   "source": [
    "## では、これらの関数を使用して最初のエージェントを組み立てる方法をAIプレイグラウンドで見てみましょう！\n",
    "\n",
    "- **システムプロンプト**：`すべての社内ポリシーが満たされていると確信できるまで、ツールを呼び出すこと`\n",
    "- **質問例**：`当社のポリシーに基づいて、最新の返品を受け付けるべきでしょうか？`\n",
    "\n",
    "### AIプレイグラウンドは、左のナビゲーションバーの「AI/ML」から見つけることができます。または、以下に作成されたリンクを使用することもできます。"
   ]
  },
  {
   "cell_type": "code",
   "execution_count": 0,
   "metadata": {
    "application/vnd.databricks.v1+cell": {
     "cellMetadata": {
      "byteLimit": 2048000,
      "rowLimit": 10000
     },
     "inputWidgets": {},
     "nuid": "23fbc931-edc2-4e94-b9c4-6f1569b92e1d",
     "showTitle": true,
     "tableResultSettingsMap": {},
     "title": "AI Playgroundへのリンクを作成"
    }
   },
   "outputs": [],
   "source": [
    "# AI PlaygroundへのHTMLリンクを作成\n",
    "html_link = f'<a href=\"https://{workspace_url}/ml/playground\" target=\"_blank\">AI Playgroundへ移動</a>'\n",
    "display(HTML(html_link))"
   ]
  }
 ],
 "metadata": {
  "application/vnd.databricks.v1+notebook": {
   "computePreferences": {
    "hardware": {
     "accelerator": null,
     "gpuPoolId": null,
     "memory": null
    }
   },
   "dashboards": [],
   "environmentMetadata": null,
   "inputWidgetPreferences": null,
   "language": "python",
   "notebookMetadata": {
    "mostRecentlyExecutedCommandWithImplicitDF": {
     "commandId": -1,
     "dataframes": [
      "_sqldf"
     ]
    },
    "pythonIndentUnit": 2
   },
   "notebookName": "01_create_tools",
   "widgets": {}
  },
  "language_info": {
   "name": "python"
  }
 },
 "nbformat": 4,
 "nbformat_minor": 0
}

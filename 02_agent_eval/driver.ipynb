{
 "cells": [
  {
   "cell_type": "markdown",
   "metadata": {
    "application/vnd.databricks.v1+cell": {
     "cellMetadata": {},
     "inputWidgets": {},
     "nuid": "3ed9821c-1abb-4f1e-9d83-8fca510d8ac0",
     "showTitle": false,
     "tableResultSettingsMap": {},
     "title": ""
    }
   },
   "source": [
    "# ハンズオンラボ：Databricksでエージェントシステムを構築する\n",
    "\n",
    "**環境バージョン1のサーバレスコンピュートを使用してください。**\n",
    "\n",
    "## パート2 - エージェント評価\n",
    "エージェントを作成したので、そのパフォーマンスをどのように評価するのでしょうか？\n",
    "第2部では、評価に焦点を当てるために製品サポートエージェントを作成します。\n",
    "このエージェントは、RAGアプローチを使用して製品ドキュメントを活用し、製品に関する質問に回答します。\n",
    "\n",
    "### 2.1 新しいエージェントとリトリーバーツールの定義\n",
    "- [**agent.py**]($./agent.py)：サンプルエージェントが設定されています。まずこのファイルを確認し、構成要素を理解しましょう\n",
    "- **ベクター検索**：特定の製品に関連するドキュメントを検索できるベクター検索エンドポイントを作成しました。\n",
    "- **リトリーバー関数の作成**：リトリーバーのプロパティを定義し、LLMから呼び出せるようにパッケージ化します。\n",
    "\n",
    "### 2.2 評価データセットの作成\n",
    "- サンプルの評価データセットを用意していますが、[合成的に生成](https://www.databricks.com/jp/blog/streamline-ai-agent-evaluation-with-new-synthetic-data-capabilities)することも可能です。\n",
    "\n",
    "### 2.3 MLflow.evaluate() の実行\n",
    "- MLflowは評価データセットを使ってエージェントの応答をテストします\n",
    "- LLMジャッジが出力をスコア化し、すべてを見やすいUIでまとめます\n",
    "\n",
    "### 2.4 必要な改善を行い、再評価を実施\n",
    "- 評価結果からフィードバックを得てリトリーバー設定を変更\n",
    "- 再度評価を実施し、改善を確認しましょう！"
   ]
  },
  {
   "cell_type": "code",
   "execution_count": 0,
   "metadata": {
    "application/vnd.databricks.v1+cell": {
     "cellMetadata": {
      "byteLimit": 2048000,
      "rowLimit": 10000
     },
     "inputWidgets": {},
     "nuid": "d1a0de4c-53dc-4d54-a712-ee4746da6b01",
     "showTitle": false,
     "tableResultSettingsMap": {},
     "title": ""
    }
   },
   "outputs": [],
   "source": [
    "# serverless computeの場合は不要\n",
    "#%pip install -U -qqqq mlflow-skinny[databricks] langgraph==0.3.4 databricks-langchain databricks-agents uv\n",
    "#dbutils.library.restartPython()"
   ]
  },
  {
   "cell_type": "code",
   "execution_count": 0,
   "metadata": {
    "application/vnd.databricks.v1+cell": {
     "cellMetadata": {
      "byteLimit": 2048000,
      "rowLimit": 10000
     },
     "inputWidgets": {},
     "nuid": "7ea933d0-f4fb-4e83-937a-ac702c5aa338",
     "showTitle": false,
     "tableResultSettingsMap": {},
     "title": ""
    }
   },
   "outputs": [],
   "source": [
    "%run ../config"
   ]
  },
  {
   "cell_type": "markdown",
   "metadata": {
    "application/vnd.databricks.v1+cell": {
     "cellMetadata": {},
     "inputWidgets": {},
     "nuid": "2c2114fe-c731-46c8-9981-a93b13c41183",
     "showTitle": false,
     "tableResultSettingsMap": {},
     "title": ""
    }
   },
   "source": [
    "## 環境変数を通じたエージェントの設定\n",
    "\n",
    "環境変数から`agent.py`のパラメータを設定します。"
   ]
  },
  {
   "cell_type": "code",
   "execution_count": 0,
   "metadata": {
    "application/vnd.databricks.v1+cell": {
     "cellMetadata": {
      "byteLimit": 2048000,
      "rowLimit": 10000
     },
     "inputWidgets": {},
     "nuid": "8a5add43-e153-42f7-b9ad-2f171004d703",
     "showTitle": false,
     "tableResultSettingsMap": {},
     "title": ""
    }
   },
   "outputs": [],
   "source": [
    "from databricks.sdk import WorkspaceClient\n",
    "import os\n",
    "import re\n",
    "\n",
    "# ワークスペースクライアントを使用して現在のユーザーに関する情報を取得\n",
    "w = WorkspaceClient()\n",
    "user_email = w.current_user.me().emails[0].value\n",
    "username = user_email.split('@')[0]\n",
    "username = re.sub(r'[^a-zA-Z0-9_]', '_', username) # 特殊文字をアンダースコアに置換\n",
    "\n",
    "# スキーマを指定します\n",
    "user_schema_name = f\"agents_lab_{username}\" # ユーザーごとのスキーマ"
   ]
  },
  {
   "cell_type": "code",
   "execution_count": 0,
   "metadata": {
    "application/vnd.databricks.v1+cell": {
     "cellMetadata": {
      "byteLimit": 2048000,
      "rowLimit": 10000
     },
     "inputWidgets": {},
     "nuid": "9776c34d-3d73-469a-aba0-8e1f856cf540",
     "showTitle": false,
     "tableResultSettingsMap": {},
     "title": ""
    }
   },
   "outputs": [],
   "source": [
    "# LLMエンドポイント名\n",
    "os.environ[\"LLM_ENDPOINT_NAME\"] = \"databricks-claude-3-7-sonnet\"\n",
    "\n",
    "# UC関数ツール\n",
    "os.environ[\"UC_TOOL_NAMES\"] = f\"{catalog_name}.{user_schema_name}.*\"\n",
    "\n",
    "# Vector Search名\n",
    "os.environ[\"VS_NAME\"] = f\"{catalog_name}.{system_schema_name}.product_docs_index\"\n",
    "\n",
    "print(\"環境変数を設定しました:\")\n",
    "print(f\"LLM_ENDPOINT_NAME: {os.environ.get('LLM_ENDPOINT_NAME')}\")\n",
    "print(f\"UC_TOOL_NAMES: {os.environ.get('UC_TOOL_NAMES')}\")\n",
    "print(f\"VS_NAME: {os.environ.get('VS_NAME')}\")"
   ]
  },
  {
   "cell_type": "code",
   "execution_count": 0,
   "metadata": {
    "application/vnd.databricks.v1+cell": {
     "cellMetadata": {
      "byteLimit": 2048000,
      "rowLimit": 10000
     },
     "inputWidgets": {},
     "nuid": "3f85bb60-b76b-460d-b8f0-9ef2cde300f1",
     "showTitle": true,
     "tableResultSettingsMap": {},
     "title": "エージェントが動作することを確認するためのクイックなテスト"
    }
   },
   "outputs": [],
   "source": [
    "from agent import AGENT\n",
    "\n",
    "AGENT.predict({\"messages\": [{\"role\": \"user\", \"content\": \"Soundwave X5 Pro ヘッドフォンのトラブルシューティングのコツを教えてください。\"}]})"
   ]
  },
  {
   "cell_type": "code",
   "execution_count": 0,
   "metadata": {
    "application/vnd.databricks.v1+cell": {
     "cellMetadata": {
      "byteLimit": 2048000,
      "rowLimit": 10000
     },
     "inputWidgets": {},
     "nuid": "8b363cf7-1ad3-4c7c-a6ef-1a89160f96b6",
     "showTitle": false,
     "tableResultSettingsMap": {},
     "title": ""
    }
   },
   "outputs": [],
   "source": [
    "AGENT.predict({\"messages\": [{\"role\": \"user\", \"content\": \"今日の日付は\"}]})"
   ]
  },
  {
   "cell_type": "code",
   "execution_count": 0,
   "metadata": {
    "application/vnd.databricks.v1+cell": {
     "cellMetadata": {
      "byteLimit": 2048000,
      "rowLimit": 10000
     },
     "inputWidgets": {},
     "nuid": "ba3f1e9d-8e93-4ba5-882c-521592ae3f41",
     "showTitle": false,
     "tableResultSettingsMap": {},
     "title": ""
    }
   },
   "outputs": [],
   "source": [
    "from IPython.display import Image, display\n",
    "\n",
    "# エージェントのグラフ構造を可視化\n",
    "display(Image(AGENT.agent.get_graph().draw_mermaid_png()))"
   ]
  },
  {
   "cell_type": "markdown",
   "metadata": {
    "application/vnd.databricks.v1+cell": {
     "cellMetadata": {},
     "inputWidgets": {},
     "nuid": "fa253ec9-edf7-475f-b9a3-f43fd9873c0f",
     "showTitle": false,
     "tableResultSettingsMap": {},
     "title": ""
    }
   },
   "source": [
    "## `agent` をMLflowモデルとしてログに記録する\n",
    "[agent]($./agent)ノートブックのコードとしてエージェントをログに記録します。詳細は[MLflow - コードからのモデル](https://mlflow.org/docs/latest/models.html#models-from-code)を参照してください。"
   ]
  },
  {
   "cell_type": "code",
   "execution_count": 0,
   "metadata": {
    "application/vnd.databricks.v1+cell": {
     "cellMetadata": {
      "byteLimit": 2048000,
      "rowLimit": 10000
     },
     "inputWidgets": {},
     "nuid": "70068664-e8b4-410a-a490-bd4c4d93c467",
     "showTitle": false,
     "tableResultSettingsMap": {},
     "title": ""
    }
   },
   "outputs": [],
   "source": [
    "# デプロイ時に自動認証パススルーを指定するためのDatabricksリソースを決定\n",
    "import mlflow\n",
    "from agent import tools, LLM_ENDPOINT_NAME\n",
    "from databricks_langchain import VectorSearchRetrieverTool\n",
    "from mlflow.models.resources import DatabricksFunction, DatabricksServingEndpoint\n",
    "from unitycatalog.ai.langchain.toolkit import UnityCatalogTool\n",
    "\n",
    "resources = [DatabricksServingEndpoint(endpoint_name=LLM_ENDPOINT_NAME)]\n",
    "for tool in tools:\n",
    "    if isinstance(tool, VectorSearchRetrieverTool):\n",
    "        resources.extend(tool.resources)\n",
    "    elif isinstance(tool, UnityCatalogTool):\n",
    "        resources.append(DatabricksFunction(function_name=tool.uc_function_name))\n",
    "\n",
    "input_example = {\n",
    "    \"messages\": [\n",
    "        {\n",
    "            \"role\": \"user\",\n",
    "            \"content\": \"Aria Modern Bookshelfの利用可能な色オプションは何ですか？\"\n",
    "        }\n",
    "    ]\n",
    "}\n",
    "\n",
    "with mlflow.start_run():\n",
    "    logged_agent_info = mlflow.pyfunc.log_model(\n",
    "        name=\"agent\",\n",
    "        python_model=\"agent.py\",\n",
    "        input_example=input_example,\n",
    "        resources=resources,\n",
    "        extra_pip_requirements=[\n",
    "            \"databricks-connect\"\n",
    "        ]\n",
    "    )"
   ]
  },
  {
   "cell_type": "code",
   "execution_count": 0,
   "metadata": {
    "application/vnd.databricks.v1+cell": {
     "cellMetadata": {
      "byteLimit": 2048000,
      "rowLimit": 10000
     },
     "inputWidgets": {},
     "nuid": "149b6f04-665b-493f-b89b-61a0240992dd",
     "showTitle": false,
     "tableResultSettingsMap": {},
     "title": ""
    }
   },
   "outputs": [],
   "source": [
    "# モデルをロードし、予測関数を作成\n",
    "logged_model_uri = f\"runs:/{logged_agent_info.run_id}/agent\"\n",
    "loaded_model = mlflow.pyfunc.load_model(logged_model_uri)\n",
    "\n",
    "def predict_wrapper(query):\n",
    "    # チャット形式モデル用の入力を整形\n",
    "    model_input = {\n",
    "        \"messages\": [{\"role\": \"user\", \"content\": query}]\n",
    "    }\n",
    "    response = loaded_model.predict(model_input)\n",
    "    \n",
    "    messages = response['messages']\n",
    "    return messages[-1]['content']"
   ]
  },
  {
   "cell_type": "markdown",
   "metadata": {
    "application/vnd.databricks.v1+cell": {
     "cellMetadata": {},
     "inputWidgets": {},
     "nuid": "f814c70c-a129-4b70-9be1-f1e4122213d9",
     "showTitle": false,
     "tableResultSettingsMap": {},
     "title": ""
    }
   },
   "source": [
    "## エージェントを[エージェント評価](https://docs.databricks.com/aws/ja/generative-ai/agent-evaluation)で評価する\n",
    "\n",
    "評価データセットのリクエストや期待される応答を編集し、エージェントを反復しながら評価を実行し、mlflowを活用して計算された品質指標を追跡できます。"
   ]
  },
  {
   "cell_type": "code",
   "execution_count": 0,
   "metadata": {
    "application/vnd.databricks.v1+cell": {
     "cellMetadata": {
      "byteLimit": 2048000,
      "rowLimit": 10000
     },
     "inputWidgets": {},
     "nuid": "14ccc20b-7251-405d-887a-3f628d9f8bbe",
     "showTitle": false,
     "tableResultSettingsMap": {},
     "title": ""
    }
   },
   "outputs": [],
   "source": [
    "import pandas as pd\n",
    "\n",
    "data = {\n",
    "    \"request\": [\n",
    "        \"Aria Modern Bookshelfの利用可能な色オプションは何ですか？\",\n",
    "        \"Aurora Oak Coffee Tableを傷つけずに掃除するにはどうすればよいですか？\",\n",
    "        \"BlendMaster Elite 4000は使用後にどのように掃除すればよいですか？\",\n",
    "        \"Flexi-Comfort Office Deskは何色展開ですか？\",\n",
    "        \"StormShield Pro メンズ防水ジャケットのサイズ展開は？\"\n",
    "    ],\n",
    "    \"expected_facts\": [\n",
    "        [\n",
    "            \"Aria Modern Bookshelfはナチュラルオーク仕上げで利用可能です。\",\n",
    "            \"Aria Modern Bookshelfはブラック仕上げで利用可能です。\",\n",
    "            \"Aria Modern Bookshelfはホワイト仕上げで利用可能です。\"\n",
    "        ],\n",
    "        [\n",
    "            \"柔らかく少し湿らせた布で掃除してください。\",\n",
    "            \"研磨剤入りのクリーナーは使用しないでください。\"\n",
    "        ],\n",
    "        [\n",
    "            \"BlendMaster Elite 4000のジャーはすすいでください。\",\n",
    "            \"ぬるま湯ですすいでください。\",\n",
    "            \"使用後は毎回掃除してください。\"\n",
    "        ],\n",
    "        [\n",
    "            \"Flexi-Comfort Office Deskは3色展開です。\"\n",
    "        ],\n",
    "        [\n",
    "            \"StormShield Pro メンズ防水ジャケットのサイズはS、M、L、XL、XXLです。\"\n",
    "        ]\n",
    "    ]\n",
    "}\n",
    "\n",
    "eval_dataset = pd.DataFrame(data)\n",
    "display(eval_dataset)"
   ]
  },
  {
   "cell_type": "markdown",
   "metadata": {
    "application/vnd.databricks.v1+cell": {
     "cellMetadata": {},
     "inputWidgets": {},
     "nuid": "ce4b226a-df63-495a-ad8a-501d90020247",
     "showTitle": false,
     "tableResultSettingsMap": {},
     "title": ""
    }
   },
   "source": [
    "LLMジャッジである[スコアラー](https://docs.databricks.com/gcp/ja/mlflow3/genai/eval-monitor/custom-judge/meets-guidelines)を定義します。"
   ]
  },
  {
   "cell_type": "code",
   "execution_count": 0,
   "metadata": {
    "application/vnd.databricks.v1+cell": {
     "cellMetadata": {
      "byteLimit": 2048000,
      "rowLimit": 10000
     },
     "inputWidgets": {},
     "nuid": "1da4a408-6f2e-43da-9fad-b293aaadba23",
     "showTitle": false,
     "tableResultSettingsMap": {},
     "title": ""
    }
   },
   "outputs": [],
   "source": [
    "from mlflow.genai.scorers import Guidelines, Safety\n",
    "import mlflow.genai\n",
    "\n",
    "# 評価用データセットを作成\n",
    "eval_data = []\n",
    "for request, facts in zip(data[\"request\"], data[\"expected_facts\"]):\n",
    "    eval_data.append({\n",
    "        \"inputs\": {\n",
    "            \"query\": request  # 関数の引数と一致させる\n",
    "        },\n",
    "        \"expected_response\": \"\\n\".join(facts)\n",
    "    })\n",
    "\n",
    "# 評価用スコアラーを定義\n",
    "# LLMジャッジが応答を評価するためのガイドライン\n",
    "\n",
    "# 製品情報評価に特化したカスタムスコアラーを定義\n",
    "scorers = [\n",
    "    Guidelines(\n",
    "        guidelines=\"\"\"応答にはすべての期待される事実が含まれている必要があります:\n",
    "        - 該当する場合はすべての色やサイズを列挙する（部分的なリストは不可）\n",
    "        - 該当する場合は正確な仕様を記載する（例:「5 ATM」など曖昧な表現は不可）\n",
    "        - 掃除手順を尋ねられた場合はすべての手順を含める\n",
    "        いずれかの事実が欠落または誤っている場合は不合格とする。\"\"\",\n",
    "        name=\"completeness_and_accuracy\",\n",
    "    ),\n",
    "    Guidelines(\n",
    "        guidelines=\"\"\"応答は明確かつ直接的でなければなりません:\n",
    "        - 質問に正確に答える\n",
    "        - 選択肢はリスト形式、手順はステップ形式で記載\n",
    "        - マーケティング的な表現や余計な背景説明は不要\n",
    "        - 簡潔かつ完全であること。\"\"\",\n",
    "        name=\"relevance_and_structure\",\n",
    "    ),\n",
    "    Guidelines(\n",
    "        guidelines=\"\"\"応答は話題から逸脱しないこと:\n",
    "        - 質問された製品のみについて回答する\n",
    "        - 架空の機能や色を追加しない\n",
    "        - 一般的なアドバイスは含めない\n",
    "        - リクエストに記載された製品名を正確に使用すること。\"\"\",\n",
    "        name=\"product_specificity\",\n",
    "    ),\n",
    "]"
   ]
  },
  {
   "cell_type": "markdown",
   "metadata": {
    "application/vnd.databricks.v1+cell": {
     "cellMetadata": {},
     "inputWidgets": {},
     "nuid": "51068f89-bdb4-46af-9bfd-5c0f2f7ab54f",
     "showTitle": false,
     "tableResultSettingsMap": {},
     "title": ""
    }
   },
   "source": [
    "評価を実行します。"
   ]
  },
  {
   "cell_type": "code",
   "execution_count": 0,
   "metadata": {
    "application/vnd.databricks.v1+cell": {
     "cellMetadata": {
      "byteLimit": 2048000,
      "rowLimit": 10000
     },
     "inputWidgets": {},
     "nuid": "ecd0336c-a598-469a-8d87-cc748fc3157c",
     "showTitle": false,
     "tableResultSettingsMap": {},
     "title": ""
    }
   },
   "outputs": [],
   "source": [
    "print(\"評価を実行中...\")\n",
    "with mlflow.start_run():\n",
    "    results = mlflow.genai.evaluate(\n",
    "        data=eval_data,\n",
    "        predict_fn=predict_wrapper, \n",
    "        scorers=scorers,\n",
    "    )"
   ]
  },
  {
   "cell_type": "markdown",
   "metadata": {
    "application/vnd.databricks.v1+cell": {
     "cellMetadata": {},
     "inputWidgets": {},
     "nuid": "2c3ff588-1223-4e8b-b332-e395bf244d0a",
     "showTitle": false,
     "tableResultSettingsMap": {},
     "title": ""
    }
   },
   "source": [
    "## [agent.py]($./agent.py) ファイルに戻り、プロンプトを変更してマーケティングの誇張を減らしましょう。"
   ]
  },
  {
   "cell_type": "code",
   "execution_count": 0,
   "metadata": {
    "application/vnd.databricks.v1+cell": {
     "cellMetadata": {
      "byteLimit": 2048000,
      "rowLimit": 10000
     },
     "inputWidgets": {},
     "nuid": "bb24a329-d91d-457e-8e4e-079bed89a428",
     "showTitle": false,
     "tableResultSettingsMap": {},
     "title": ""
    }
   },
   "outputs": [],
   "source": [
    "with mlflow.start_run():\n",
    "    logged_agent_info = mlflow.pyfunc.log_model(\n",
    "        name=\"agent\",\n",
    "        python_model=\"agent.py\",\n",
    "        input_example=input_example,\n",
    "        resources=resources,\n",
    "        extra_pip_requirements=[\n",
    "            \"databricks-connect\"\n",
    "        ]\n",
    "    )\n",
    "\n",
    "# モデルをロードし、予測関数を作成\n",
    "logged_model_uri = f\"runs:/{logged_agent_info.run_id}/agent\"\n",
    "loaded_model = mlflow.pyfunc.load_model(logged_model_uri)\n",
    "\n",
    "def predict_wrapper(query):\n",
    "    # チャット形式モデル用の入力を整形\n",
    "    model_input = {\n",
    "        \"messages\": [{\"role\": \"user\", \"content\": query}]\n",
    "    }\n",
    "    response = loaded_model.predict(model_input)\n",
    "    \n",
    "    messages = response['messages']\n",
    "    return messages[-1]['content']\n",
    "  \n",
    "print(\"評価を実行中...\")\n",
    "with mlflow.start_run():\n",
    "    results = mlflow.genai.evaluate(\n",
    "        data=eval_data,\n",
    "        predict_fn=predict_wrapper, \n",
    "        scorers=scorers,\n",
    "    )"
   ]
  },
  {
   "cell_type": "markdown",
   "metadata": {
    "application/vnd.databricks.v1+cell": {
     "cellMetadata": {},
     "inputWidgets": {},
     "nuid": "03208667-abbd-4b26-8af7-bf1c427fa0aa",
     "showTitle": false,
     "tableResultSettingsMap": {},
     "title": ""
    }
   },
   "source": [
    "## モデルをUnity Catalogに登録する\n",
    "\n",
    "以下の `catalog`、`schema`、`model_name` を更新して、MLflowモデルをUnity Catalogに登録します。"
   ]
  },
  {
   "cell_type": "code",
   "execution_count": 0,
   "metadata": {
    "application/vnd.databricks.v1+cell": {
     "cellMetadata": {
      "byteLimit": 2048000,
      "rowLimit": 10000
     },
     "inputWidgets": {},
     "nuid": "117f7e33-29b7-439a-b9f4-a69826ec3790",
     "showTitle": false,
     "tableResultSettingsMap": {},
     "title": ""
    },
    "jupyter": {
     "outputs_hidden": true
    }
   },
   "outputs": [],
   "source": [
    "mlflow.set_registry_uri(\"databricks-uc\")\n",
    "\n",
    "# UCモデル用のカタログ、スキーマ、モデル名を定義\n",
    "model_name = \"product_agent\"\n",
    "UC_MODEL_NAME = f\"{catalog_name}.{user_schema_name}.{model_name}\"\n",
    "\n",
    "# モデルをUCに登録\n",
    "uc_registered_model_info = mlflow.register_model(model_uri=logged_agent_info.model_uri, name=UC_MODEL_NAME)"
   ]
  },
  {
   "cell_type": "markdown",
   "metadata": {
    "application/vnd.databricks.v1+cell": {
     "cellMetadata": {},
     "inputWidgets": {},
     "nuid": "22f60ab5-82ca-44bf-821c-d47d8a07c6cb",
     "showTitle": false,
     "tableResultSettingsMap": {},
     "title": ""
    }
   },
   "source": [
    "モデルバージョンにアクセスし、**依存関係**タブでエージェントのリネージを確認してみましょう。"
   ]
  },
  {
   "cell_type": "code",
   "execution_count": 0,
   "metadata": {
    "application/vnd.databricks.v1+cell": {
     "cellMetadata": {
      "byteLimit": 2048000,
      "rowLimit": 10000
     },
     "inputWidgets": {},
     "nuid": "a4137b28-eb70-4246-a414-212375344d6b",
     "showTitle": false,
     "tableResultSettingsMap": {},
     "title": ""
    }
   },
   "outputs": [],
   "source": [
    "from IPython.display import display, HTML\n",
    "\n",
    "# DatabricksのホストURLを取得\n",
    "workspace_url = spark.conf.get('spark.databricks.workspaceUrl')\n",
    "\n",
    "# 作成したエージェントへのHTMLリンクを作成\n",
    "html_link = f'<a href=\"https://{workspace_url}/explore/data/models/{catalog_name}/{user_schema_name}/product_agent\" target=\"_blank\">登録済みエージェントをUnity Catalogで表示</a>'\n",
    "display(HTML(html_link))"
   ]
  },
  {
   "cell_type": "markdown",
   "metadata": {
    "application/vnd.databricks.v1+cell": {
     "cellMetadata": {},
     "inputWidgets": {},
     "nuid": "fd9d9f86-6210-452a-8902-0d3b0a731822",
     "showTitle": false,
     "tableResultSettingsMap": {},
     "title": ""
    }
   },
   "source": [
    "## エージェントのデプロイ\n",
    "\n",
    "上で使用した環境変数を設定してエージェントをモデルサービングエンドポイントにデプロイします。"
   ]
  },
  {
   "cell_type": "code",
   "execution_count": 0,
   "metadata": {
    "application/vnd.databricks.v1+cell": {
     "cellMetadata": {
      "byteLimit": 2048000,
      "rowLimit": 10000
     },
     "inputWidgets": {},
     "nuid": "b54b3961-6059-4ba1-a1b4-80e9aa2a570e",
     "showTitle": false,
     "tableResultSettingsMap": {},
     "title": ""
    }
   },
   "outputs": [],
   "source": [
    "from databricks import agents\n",
    "\n",
    "# 環境変数を辞書として定義\n",
    "environment_vars = {\n",
    "    \"LLM_ENDPOINT_NAME\": os.environ[\"LLM_ENDPOINT_NAME\"],\n",
    "    \"UC_TOOL_NAMES\": os.environ[\"UC_TOOL_NAMES\"],\n",
    "    \"VS_NAME\": os.environ[\"VS_NAME\"],\n",
    "}\n",
    "\n",
    "# モデルをレビューアプリおよびモデルサービングエンドポイントにデプロイ\n",
    "endpoint_info = agents.deploy(\n",
    "    UC_MODEL_NAME,\n",
    "    uc_registered_model_info.version,\n",
    "    tags={\"endpointSource\": \"Agent Lab\"},\n",
    "    environment_vars=environment_vars,\n",
    "    timeout=900,  # 15分に延長\n",
    ")"
   ]
  },
  {
   "cell_type": "markdown",
   "metadata": {
    "application/vnd.databricks.v1+cell": {
     "cellMetadata": {},
     "inputWidgets": {},
     "nuid": "728713ee-c340-4831-b870-c55d46f9a205",
     "showTitle": false,
     "tableResultSettingsMap": {},
     "title": ""
    }
   },
   "source": [
    "以下のセルを実行して表示されるリンクにアクセスし、エンドポイントが**準備完了**になったら右上の**使用 > Playgroundで試す**を選択し、Playgroundで動作確認しましょう。"
   ]
  },
  {
   "cell_type": "code",
   "execution_count": 0,
   "metadata": {
    "application/vnd.databricks.v1+cell": {
     "cellMetadata": {
      "byteLimit": 2048000,
      "rowLimit": 10000
     },
     "inputWidgets": {},
     "nuid": "297ceb92-b149-4014-ae28-fb95c0b58559",
     "showTitle": false,
     "tableResultSettingsMap": {},
     "title": ""
    }
   },
   "outputs": [],
   "source": [
    "from IPython.display import display, HTML\n",
    "\n",
    "serving_endpoint_url = f\"https://{workspace_url}/ml/endpoints/{endpoint_info.endpoint_name}\"\n",
    "html_endpoint_link = f'<a href=\"{serving_endpoint_url}\" target=\"_blank\">サービングエンドポイントを表示</a>'\n",
    "display(HTML(html_endpoint_link))"
   ]
  },
  {
   "cell_type": "markdown",
   "metadata": {
    "application/vnd.databricks.v1+cell": {
     "cellMetadata": {},
     "inputWidgets": {},
     "nuid": "149fc924-cf0b-4097-8d41-54b3437481d8",
     "showTitle": false,
     "tableResultSettingsMap": {},
     "title": ""
    }
   },
   "source": [
    "### サービングエンドポイントの削除\n",
    "\n",
    "サービングエンドポイントは課金が発生するので、ハンズオンが終わったらエンドポイントを削除しましょう。"
   ]
  },
  {
   "cell_type": "code",
   "execution_count": 0,
   "metadata": {
    "application/vnd.databricks.v1+cell": {
     "cellMetadata": {
      "byteLimit": 2048000,
      "rowLimit": 10000
     },
     "inputWidgets": {},
     "nuid": "3e45d1c0-f11d-4faf-8068-89e1fc11dca6",
     "showTitle": false,
     "tableResultSettingsMap": {},
     "title": ""
    }
   },
   "outputs": [],
   "source": [
    "# エージェントのデプロイ削除\n",
    "from databricks import agents\n",
    "\n",
    "agents.delete_deployment(\n",
    "    model_name=UC_MODEL_NAME,\n",
    "    model_version=uc_registered_model_info.version\n",
    ")"
   ]
  },
  {
   "cell_type": "markdown",
   "metadata": {
    "application/vnd.databricks.v1+cell": {
     "cellMetadata": {},
     "inputWidgets": {},
     "nuid": "96510c6c-aaed-463b-9475-7b3d31652e0c",
     "showTitle": false,
     "tableResultSettingsMap": {},
     "title": ""
    }
   },
   "source": [
    "## 今後の方向性\n",
    "\n",
    "- 更なる[評価](https://docs.databricks.com/aws/ja/mlflow3/genai/getting-started/eval)と[監視](https://docs.databricks.com/aws/ja/mlflow3/genai/eval-monitor/)を通じた改善\n",
    "- [アプリ](https://docs.databricks.com/aws/ja/dev-tools/databricks-apps/get-started)との連携"
   ]
  }
 ],
 "metadata": {
  "application/vnd.databricks.v1+notebook": {
   "computePreferences": {
    "hardware": {
     "accelerator": null,
     "gpuPoolId": null,
     "memory": null
    }
   },
   "dashboards": [],
   "environmentMetadata": {
    "base_environment": "",
    "environment_version": "1"
   },
   "inputWidgetPreferences": null,
   "language": "python",
   "notebookMetadata": {
    "mostRecentlyExecutedCommandWithImplicitDF": {
     "commandId": 8374786319056394,
     "dataframes": [
      "_sqldf"
     ]
    },
    "pythonIndentUnit": 2
   },
   "notebookName": "driver",
   "widgets": {}
  },
  "language_info": {
   "name": "python"
  }
 },
 "nbformat": 4,
 "nbformat_minor": 0
}

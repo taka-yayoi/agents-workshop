{
 "cells": [
  {
   "cell_type": "code",
   "execution_count": 0,
   "metadata": {
    "application/vnd.databricks.v1+cell": {
     "cellMetadata": {},
     "inputWidgets": {},
     "nuid": "971db396-3b49-447a-b646-10e5eeaf0d98",
     "showTitle": false,
     "tableResultSettingsMap": {},
     "title": ""
    }
   },
   "outputs": [],
   "source": [
    "# カタログを指定します\n",
    "catalog_name = \"handson_catalog\"\n",
    "#catalog_name = \"takaakiyayoi_catalog\"\n",
    "\n",
    "# ハンズオンで使用するVS用スキーマを指定\n",
    "system_schema_name = \"agents_lab\"\n",
    "\n",
    "print(f\"ハンズオンで使用するカタログ: {catalog_name}\")\n",
    "print(f\"ハンズオンで使用する共有スキーマ(データを格納): {system_schema_name}\")"
   ]
  }
 ],
 "metadata": {
  "application/vnd.databricks.v1+notebook": {
   "computePreferences": null,
   "dashboards": [],
   "environmentMetadata": {
    "base_environment": "",
    "environment_version": "2"
   },
   "inputWidgetPreferences": null,
   "language": "python",
   "notebookMetadata": {
    "pythonIndentUnit": 2
   },
   "notebookName": "config",
   "widgets": {}
  },
  "language_info": {
   "name": "python"
  }
 },
 "nbformat": 4,
 "nbformat_minor": 0
}
